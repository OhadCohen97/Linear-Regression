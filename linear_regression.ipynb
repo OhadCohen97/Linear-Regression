{
  "nbformat": 4,
  "nbformat_minor": 0,
  "metadata": {
    "colab": {
      "name": "linear-regression.ipynb",
      "provenance": [],
      "authorship_tag": "ABX9TyNPJyY5+7mOieA7f1s8icZ1",
      "include_colab_link": true
    },
    "kernelspec": {
      "name": "python3",
      "display_name": "Python 3"
    }
  },
  "cells": [
    {
      "cell_type": "markdown",
      "metadata": {
        "id": "view-in-github",
        "colab_type": "text"
      },
      "source": [
        "<a href=\"https://colab.research.google.com/github/OhadCohen97/Linear-Regression/blob/main/linear_regression.ipynb\" target=\"_parent\"><img src=\"https://colab.research.google.com/assets/colab-badge.svg\" alt=\"Open In Colab\"/></a>"
      ]
    },
    {
      "cell_type": "markdown",
      "metadata": {
        "id": "b5DPI0nBiMrG"
      },
      "source": [
        "# First,we import the libraries of pandas,numpy,sklearn and matplotlib:"
      ]
    },
    {
      "cell_type": "code",
      "metadata": {
        "id": "8DhWuLIEw72R"
      },
      "source": [
        "import pandas as pd\n",
        "import numpy as np\n",
        "import sklearn\n",
        "from sklearn import linear_model\n",
        "import matplotlib.pyplot as pyplot"
      ],
      "execution_count": 41,
      "outputs": []
    },
    {
      "cell_type": "markdown",
      "metadata": {
        "id": "Pipyr_Ckjm2y"
      },
      "source": [
        "# Getting the data\n",
        "\n",
        "*   With x we get the column of 'experience'.\n",
        "*   With y we get the column if 'salary'. \n",
        "\n",
        "\n",
        "\n"
      ]
    },
    {
      "cell_type": "code",
      "metadata": {
        "id": "Sb3VyZZTxnuE",
        "colab": {
          "base_uri": "https://localhost:8080/"
        },
        "outputId": "d8714641-e20f-4242-a0eb-efe3620e301e"
      },
      "source": [
        "dataset = pd.read_csv('linear-regression-dataset.csv')\n",
        "print(dataset)\n",
        "x = dataset.iloc[:, :-1].values\n",
        "y = dataset.iloc[ :,-1].values\n",
        "print(\"\\nx:\",x,\"\\n\\ny:\",y)"
      ],
      "execution_count": 42,
      "outputs": [
        {
          "output_type": "stream",
          "text": [
            "    experience  salary\n",
            "0          0.5    2500\n",
            "1          0.0    2250\n",
            "2          1.0    2750\n",
            "3          5.0    8000\n",
            "4          8.0    9000\n",
            "5          4.0    6900\n",
            "6         15.0   20000\n",
            "7          7.0    8500\n",
            "8          3.0    6000\n",
            "9          2.0    3500\n",
            "10        12.0   15000\n",
            "11        10.0   13000\n",
            "12        14.0   18000\n",
            "13         6.0    7500\n",
            "\n",
            "x: [[ 0.5]\n",
            " [ 0. ]\n",
            " [ 1. ]\n",
            " [ 5. ]\n",
            " [ 8. ]\n",
            " [ 4. ]\n",
            " [15. ]\n",
            " [ 7. ]\n",
            " [ 3. ]\n",
            " [ 2. ]\n",
            " [12. ]\n",
            " [10. ]\n",
            " [14. ]\n",
            " [ 6. ]] \n",
            "\n",
            "y: [ 2500  2250  2750  8000  9000  6900 20000  8500  6000  3500 15000 13000\n",
            " 18000  7500]\n"
          ],
          "name": "stdout"
        }
      ]
    },
    {
      "cell_type": "markdown",
      "metadata": {
        "id": "IH8mdyCtkzW8"
      },
      "source": [
        "# Divide the data into training and test:\n",
        "\n",
        "splitting 90% train and 10% test"
      ]
    },
    {
      "cell_type": "code",
      "metadata": {
        "id": "bsn0ZvbNkt9y"
      },
      "source": [
        " x_train, x_test, y_train, y_test = sklearn.model_selection.train_test_split(x, y, test_size=0.2)"
      ],
      "execution_count": 43,
      "outputs": []
    },
    {
      "cell_type": "markdown",
      "metadata": {
        "id": "YKJKnfOVl79_"
      },
      "source": [
        "# Training using Linear Regression model on the training data\n",
        "\n",
        "creating a Linear Regression object in order to train"
      ]
    },
    {
      "cell_type": "code",
      "metadata": {
        "colab": {
          "base_uri": "https://localhost:8080/"
        },
        "id": "BOiyXTg8mXkp",
        "outputId": "94d8cca7-b0b4-4424-cc61-3563b8deca34"
      },
      "source": [
        "linear = linear_model.LinearRegression()\n",
        "linear.fit(x_train, y_train)"
      ],
      "execution_count": 44,
      "outputs": [
        {
          "output_type": "execute_result",
          "data": {
            "text/plain": [
              "LinearRegression(copy_X=True, fit_intercept=True, n_jobs=None, normalize=False)"
            ]
          },
          "metadata": {
            "tags": []
          },
          "execution_count": 44
        }
      ]
    },
    {
      "cell_type": "markdown",
      "metadata": {
        "id": "IVaQDoFOmgVW"
      },
      "source": [
        "**We will compute accuracy of our model**"
      ]
    },
    {
      "cell_type": "code",
      "metadata": {
        "colab": {
          "base_uri": "https://localhost:8080/"
        },
        "id": "Vg4YTI4Amqib",
        "outputId": "5ce864b2-0bd8-4c6f-b54d-2af1245715a8"
      },
      "source": [
        "acc = linear.score(x_test, y_test)\n",
        "print(\"Accuracy:\", acc)"
      ],
      "execution_count": 45,
      "outputs": [
        {
          "output_type": "stream",
          "text": [
            "Accuracy: 0.9065482055813675\n"
          ],
          "name": "stdout"
        }
      ]
    },
    {
      "cell_type": "markdown",
      "metadata": {
        "id": "xg1eqZORm2rr"
      },
      "source": [
        "\n",
        "\n",
        " **Line in 2 dimensions space needs 1 coefficient**\n",
        "\n",
        "\n"
      ]
    },
    {
      "cell_type": "code",
      "metadata": {
        "colab": {
          "base_uri": "https://localhost:8080/"
        },
        "id": "oBDH3lbOm9vw",
        "outputId": "544112ed-61b2-4bf9-f7a1-2de0692a9eaa"
      },
      "source": [
        "print(\"Coefficient:\", linear.coef_)"
      ],
      "execution_count": 46,
      "outputs": [
        {
          "output_type": "stream",
          "text": [
            "Coefficient: [1154.53454483]\n"
          ],
          "name": "stdout"
        }
      ]
    },
    {
      "cell_type": "markdown",
      "metadata": {
        "id": "tA9D-hWqnoLQ"
      },
      "source": [
        "# Prediction\n",
        "now with predict method that get the x_test (\"experience\"),our model will try to predict the \"salary\". "
      ]
    },
    {
      "cell_type": "code",
      "metadata": {
        "id": "VCTIisYtns15"
      },
      "source": [
        "predictions = linear.predict(x_test)"
      ],
      "execution_count": 47,
      "outputs": []
    },
    {
      "cell_type": "code",
      "metadata": {
        "colab": {
          "base_uri": "https://localhost:8080/"
        },
        "id": "Y8kEh_KUo_0A",
        "outputId": "158fc2c8-3da9-4215-8fc7-8eff0cb0c881"
      },
      "source": [
        "for x in range(len(predictions)):\n",
        "    print(predictions[x], x_test[x], y_test[x])"
      ],
      "execution_count": 48,
      "outputs": [
        {
          "output_type": "stream",
          "text": [
            "9796.262643579634 [7.] 8500\n",
            "15568.9353677353 [12.] 15000\n",
            "13259.86627807303 [10.] 13000\n"
          ],
          "name": "stdout"
        }
      ]
    },
    {
      "cell_type": "markdown",
      "metadata": {
        "id": "Zrh5lsxSqzvf"
      },
      "source": [
        "**Predicting twenty years experience salary**"
      ]
    },
    {
      "cell_type": "code",
      "metadata": {
        "colab": {
          "base_uri": "https://localhost:8080/"
        },
        "id": "TVo0Z_SAq1tf",
        "outputId": "9a4a0d89-cfc4-4e5e-e476-1112dbc7770a"
      },
      "source": [
        "next_salary = linear.predict([[20]])\n",
        "print(next_salary)"
      ],
      "execution_count": 55,
      "outputs": [
        {
          "output_type": "stream",
          "text": [
            "[24805.21172638]\n"
          ],
          "name": "stdout"
        }
      ]
    },
    {
      "cell_type": "markdown",
      "metadata": {
        "id": "ViMfKXv_pl6a"
      },
      "source": [
        "#  Plotting and Visualizing Data"
      ]
    },
    {
      "cell_type": "code",
      "metadata": {
        "colab": {
          "base_uri": "https://localhost:8080/",
          "height": 295
        },
        "id": "IVJlL1dop1SS",
        "outputId": "565c0a1a-f755-425d-a1be-40a5bee4a53d"
      },
      "source": [
        "pyplot.scatter(x_test, y_test, color= 'red')\n",
        "pyplot.plot(x_train, linear.predict(x_train), color = 'blue')\n",
        "pyplot.title('Salary and Experience - Test')\n",
        "pyplot.xlabel('Experience')\n",
        "pyplot.ylabel('Salary')\n",
        "pyplot.show()"
      ],
      "execution_count": 58,
      "outputs": [
        {
          "output_type": "display_data",
          "data": {
            "image/png": "[encoded data removed]",
            "text/plain": [
              "<Figure size 432x288 with 1 Axes>"
            ]
          },
          "metadata": {
            "tags": [],
            "needs_background": "light"
          }
        }
      ]
    },
    {
      "cell_type": "code",
      "metadata": {
        "colab": {
          "base_uri": "https://localhost:8080/",
          "height": 282
        },
        "id": "doYRdtpQqVI1",
        "outputId": "2e872830-a027-4767-8b9e-78403a612dd8"
      },
      "source": [
        "data_plot = dataset.loc[:,[\"experience\",\"salary\"]]\n",
        "data_plot.plot()"
      ],
      "execution_count": 54,
      "outputs": [
        {
          "output_type": "execute_result",
          "data": {
            "text/plain": [
              "<matplotlib.axes._subplots.AxesSubplot at 0x7f317bd3e690>"
            ]
          },
          "metadata": {
            "tags": []
          },
          "execution_count": 54
        },
        {
          "output_type": "display_data",
          "data": {
            "image/png": "[encoded data removed]",
            "text/plain": [
              "<Figure size 432x288 with 1 Axes>"
            ]
          },
          "metadata": {
            "tags": [],
            "needs_background": "light"
          }
        }
      ]
    }
  ]
}